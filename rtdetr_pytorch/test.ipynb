{
 "cells": [
  {
   "cell_type": "code",
   "execution_count": 11,
   "metadata": {},
   "outputs": [],
   "source": [
    "import os\n",
    "from src.solver import DetSolver\n",
    "from src.core import YAMLConfig\n",
    "import torch\n",
    "\n",
    "config_path = 'configs/rtdetr/rtdetr_r18vd_6x_coco.yml'\n",
    "checkpoint_url = \"https://github.com/lyuwenyu/storage/releases/download/v0.1/rtdetr_r18vd_dec3_6x_coco_from_paddle.pth\"\n",
    "\n",
    "torch.hub.load_state_dict_from_url(checkpoint_url, \"../models\");\n",
    "\n",
    "name = os.path.basename(checkpoint_url)\n",
    "checkpoint_path = f\"../models/{name}\""
   ]
  },
  {
   "cell_type": "code",
   "execution_count": 1,
   "metadata": {},
   "outputs": [
    {
     "name": "stderr",
     "output_type": "stream",
     "text": [
      "/usr/local/lib/python3.8/dist-packages/tqdm/auto.py:22: TqdmWarning: IProgress not found. Please update jupyter and ipywidgets. See https://ipywidgets.readthedocs.io/en/stable/user_install.html\n",
      "  from .autonotebook import tqdm as notebook_tqdm\n"
     ]
    }
   ],
   "source": [
    "import os\n",
    "from src.solver import DetSolver\n",
    "from src.core import YAMLConfig\n",
    "import torch\n",
    "\n",
    "config_path = '../models/taco/config.yml'\n",
    "checkpoint_path = '../models/taco/checkpoint0199.pth'"
   ]
  },
  {
   "cell_type": "code",
   "execution_count": 12,
   "metadata": {},
   "outputs": [],
   "source": [
    "cfg = YAMLConfig(\n",
    "    config_path,\n",
    "    resume=checkpoint_path,\n",
    "    # use_amp=args.amp,\n",
    "    tuning=''\n",
    ")\n",
    "\n",
    "solver = DetSolver(cfg)"
   ]
  },
  {
   "cell_type": "code",
   "execution_count": 13,
   "metadata": {},
   "outputs": [
    {
     "name": "stdout",
     "output_type": "stream",
     "text": [
      "Load PResNet18 state_dict\n",
      "Loading ema.state_dict\n"
     ]
    }
   ],
   "source": [
    "solver.setup()\n",
    "solver.resume(solver.cfg.resume)"
   ]
  },
  {
   "cell_type": "code",
   "execution_count": 4,
   "metadata": {},
   "outputs": [],
   "source": [
    "from src.data.transforms import Resize, ToImageTensor, ConvertDtype, Compose\n",
    "from PIL import Image, ImageOps\n",
    "\n",
    "t = Compose(ops=[\n",
    "    Resize([640, 640]),\n",
    "    ToImageTensor(),\n",
    "    ConvertDtype()\n",
    "])"
   ]
  },
  {
   "cell_type": "code",
   "execution_count": 5,
   "metadata": {},
   "outputs": [],
   "source": [
    "path = \"image_02.jpg\"\n",
    "path = \"taco.jpg\"\n",
    "\n",
    "img = Image.open(path).convert(\"RGB\")"
   ]
  },
  {
   "cell_type": "code",
   "execution_count": 6,
   "metadata": {},
   "outputs": [],
   "source": [
    "try:\n",
    "    img = ImageOps.exif_transpose(img)\n",
    "except:\n",
    "    print(\"No EXIF data\")\n",
    "    pass\n",
    "\n",
    "w, h = img.size\n",
    "orig_target_sizes = torch.as_tensor([int(w), int(h)]).unsqueeze(0)"
   ]
  },
  {
   "cell_type": "code",
   "execution_count": 7,
   "metadata": {},
   "outputs": [],
   "source": [
    "device = \"cuda:0\"\n",
    "model = solver.model\n",
    "# model = solver.ema.module if solver.ema else solver.model\n",
    "model.eval()\n",
    "postprocessors = solver.postprocessor\n",
    "postprocessors.num_top_queries = 5\n",
    "# dataloader = None\n",
    "with torch.no_grad():\n",
    "    samples = t(img)[None]\n",
    "    samples = samples.to(device)\n",
    "    orig_target_sizes = orig_target_sizes.to(device)\n",
    "    outputs = model(samples)\n",
    "    results = postprocessors(outputs, orig_target_sizes)"
   ]
  },
  {
   "cell_type": "code",
   "execution_count": 15,
   "metadata": {},
   "outputs": [
    {
     "data": {
      "text/plain": [
       "[{'labels': tensor([9, 8, 9, 0, 8], device='cuda:0'),\n",
       "  'boxes': tensor([[ 9.4745e+02,  1.8027e+03,  1.4819e+03,  2.1311e+03],\n",
       "          [ 6.6153e+02, -1.0591e+01,  3.2830e+03,  1.9432e+03],\n",
       "          [-1.1040e+00,  1.6936e+00,  8.3034e+02,  1.4433e+03],\n",
       "          [ 2.3414e+03,  1.3992e+03,  2.3633e+03,  1.4223e+03],\n",
       "          [ 4.4925e+01, -7.1199e+00,  3.3019e+03,  1.9414e+03]], device='cuda:0'),\n",
       "  'scores': tensor([0.9808, 0.0624, 0.0450, 0.0402, 0.0385], device='cuda:0')}]"
      ]
     },
     "execution_count": 15,
     "metadata": {},
     "output_type": "execute_result"
    }
   ],
   "source": [
    "import supervisely as sly\n",
    "img = sly.image.read(path)\n",
    "for box in results[0]['boxes'].cpu().numpy():\n",
    "    x, y, x2, y2 = box\n",
    "    sly.Rectangle(top=y, left=x, bottom=y2, right=x2).draw_contour(img, color=[255, 0, 0], thickness=3)\n",
    "sly.image.write(\"out.jpg\", img)\n",
    "results"
   ]
  },
  {
   "cell_type": "code",
   "execution_count": 39,
   "metadata": {},
   "outputs": [],
   "source": [
    "from src.data.coco.coco_dataset import mscoco_category2name\n",
    "mscoco_category2name"
   ]
  }
 ],
 "metadata": {
  "kernelspec": {
   "display_name": "Python 3",
   "language": "python",
   "name": "python3"
  },
  "language_info": {
   "codemirror_mode": {
    "name": "ipython",
    "version": 3
   },
   "file_extension": ".py",
   "mimetype": "text/x-python",
   "name": "python",
   "nbconvert_exporter": "python",
   "pygments_lexer": "ipython3",
   "version": "3.8.10"
  }
 },
 "nbformat": 4,
 "nbformat_minor": 2
}
