{
 "cells": [
  {
   "cell_type": "code",
   "execution_count": 2,
   "metadata": {},
   "outputs": [],
   "source": [
    "import os\n",
    "from src.solver import DetSolver\n",
    "from src.core import YAMLConfig\n",
    "\n",
    "config_path = 'configs/rtdetr/rtdetr_r18vd_6x_coco.yml'\n",
    "checkpoint_url = \"https://github.com/lyuwenyu/storage/releases/download/v0.1/rtdetr_r18vd_dec3_6x_coco_from_paddle.pth\"\n",
    "\n",
    "import torch\n",
    "torch.hub.load_state_dict_from_url(checkpoint_url, \"../models\");\n",
    "\n",
    "name = os.path.basename(checkpoint_url)\n",
    "checkpoint_path = f\"../models/{name}\""
   ]
  },
  {
   "cell_type": "code",
   "execution_count": 3,
   "metadata": {},
   "outputs": [],
   "source": [
    "cfg = YAMLConfig(\n",
    "    config_path,\n",
    "    resume=checkpoint_path,\n",
    "    # use_amp=args.amp,\n",
    "    # tuning=args.tuning\n",
    ")\n",
    "\n",
    "solver = DetSolver(cfg)"
   ]
  },
  {
   "cell_type": "code",
   "execution_count": 4,
   "metadata": {},
   "outputs": [
    {
     "name": "stdout",
     "output_type": "stream",
     "text": [
      "Load PResNet18 state_dict\n",
      "Loading ema.state_dict\n"
     ]
    }
   ],
   "source": [
    "solver.setup()\n",
    "solver.resume(solver.cfg.resume)"
   ]
  },
  {
   "cell_type": "code",
   "execution_count": 5,
   "metadata": {},
   "outputs": [],
   "source": [
    "from src.data.transforms import Resize, ToImageTensor, ConvertDtype, Compose\n",
    "from PIL import Image, ImageOps\n",
    "\n",
    "t = Compose(ops=[\n",
    "    Resize([640, 640]),\n",
    "    ToImageTensor(),\n",
    "    ConvertDtype()\n",
    "])"
   ]
  },
  {
   "cell_type": "code",
   "execution_count": 6,
   "metadata": {},
   "outputs": [],
   "source": [
    "path = \"image_02.jpg\"\n",
    "\n",
    "img = Image.open(path).convert(\"RGB\")\n",
    "try:\n",
    "    img = ImageOps.exif_transpose(img)\n",
    "except:\n",
    "    print(\"No EXIF data\")\n",
    "    pass\n",
    "\n",
    "w, h = img.size\n",
    "orig_target_sizes = torch.as_tensor([int(w), int(h)]).unsqueeze(0)"
   ]
  },
  {
   "cell_type": "code",
   "execution_count": 12,
   "metadata": {},
   "outputs": [],
   "source": [
    "device = \"cuda:0\"\n",
    "model = solver.ema.module if solver.ema else solver.model\n",
    "model.eval()\n",
    "postprocessors = solver.postprocessor\n",
    "# dataloader = None\n",
    "with torch.no_grad():\n",
    "    samples = t(img)[None]\n",
    "    samples = samples.to(device)\n",
    "    orig_target_sizes = orig_target_sizes.to(device)\n",
    "    outputs = model(samples)\n",
    "    results = postprocessors(outputs, orig_target_sizes)"
   ]
  },
  {
   "cell_type": "code",
   "execution_count": 8,
   "metadata": {},
   "outputs": [],
   "source": [
    "postprocessors.num_top_queries = 5"
   ]
  },
  {
   "cell_type": "code",
   "execution_count": 10,
   "metadata": {},
   "outputs": [],
   "source": [
    "import supervisely as sly"
   ]
  },
  {
   "cell_type": "code",
   "execution_count": 24,
   "metadata": {},
   "outputs": [],
   "source": [
    "img = sly.image.read(path)\n",
    "for box in results[0]['boxes'].cpu().numpy():\n",
    "    x, y, x2, y2 = box\n",
    "    sly.Rectangle(top=y, left=x, bottom=y2, right=x2).draw_contour(img, color=[255, 0, 0], thickness=3)"
   ]
  },
  {
   "cell_type": "code",
   "execution_count": 27,
   "metadata": {},
   "outputs": [
    {
     "data": {
      "text/plain": [
       "True"
      ]
     },
     "execution_count": 27,
     "metadata": {},
     "output_type": "execute_result"
    }
   ],
   "source": [
    "sly.image.write(\"out.jpg\", img)"
   ]
  }
 ],
 "metadata": {
  "kernelspec": {
   "display_name": "Python 3",
   "language": "python",
   "name": "python3"
  },
  "language_info": {
   "codemirror_mode": {
    "name": "ipython",
    "version": 3
   },
   "file_extension": ".py",
   "mimetype": "text/x-python",
   "name": "python",
   "nbconvert_exporter": "python",
   "pygments_lexer": "ipython3",
   "version": "3.8.10"
  }
 },
 "nbformat": 4,
 "nbformat_minor": 2
}
