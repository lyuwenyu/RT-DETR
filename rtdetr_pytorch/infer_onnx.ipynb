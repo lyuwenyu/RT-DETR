{
 "cells": [
  {
   "cell_type": "code",
   "execution_count": 1,
   "metadata": {},
   "outputs": [
    {
     "name": "stdout",
     "output_type": "stream",
     "text": [
      "torch.Size([1, 3, 640, 640])\n"
     ]
    }
   ],
   "source": [
    "import onnxruntime as ort \n",
    "from PIL import Image, ImageDraw\n",
    "from torchvision.transforms import ToTensor\n",
    "import torch\n",
    "# print(onnx.helper.printable_graph(mm.graph))\n",
    "\n",
    "im = Image.open('image_02.jpg').convert('RGB')\n",
    "im = im.resize((640, 640))\n",
    "im_data = ToTensor()(im)[None]\n",
    "print(im_data.shape)\n",
    "size = torch.tensor([[640, 640]])\n",
    "sess = ort.InferenceSession(\"../model.onnx\")"
   ]
  },
  {
   "cell_type": "code",
   "execution_count": null,
   "metadata": {},
   "outputs": [],
   "source": [
    "output = sess.run(\n",
    "    # output_names=['labels', 'boxes', 'scores'],\n",
    "    output_names=None,\n",
    "    input_feed={'images': im_data.data.numpy(), \"orig_target_sizes\": size.data.numpy()}\n",
    ")\n",
    "\n",
    "# print(type(output))\n",
    "# print([out.shape for out in output])\n",
    "\n",
    "labels, boxes, scores = output\n",
    "print(\"labels shape = \",labels)\n",
    "print(\"boxes shape = \",boxes)\n",
    "print(\"scores shape = \",scores)\n",
    "draw = ImageDraw.Draw(im)\n",
    "thrh = 0.6\n",
    "\n",
    "for i in range(im_data.shape[0]):\n",
    "\n",
    "    scr = scores[i]\n",
    "    lab = labels[i][scr > thrh]\n",
    "    box = boxes[i][scr > thrh]\n",
    "\n",
    "    print(i, sum(scr > thrh))\n",
    "\n",
    "    for b in box:\n",
    "        draw.rectangle(list(b), outline='red',)\n",
    "        draw.text((b[0], b[1]), text=str(lab[i]), fill='blue', )\n",
    "\n",
    "im.save('test.jpg')"
   ]
  }
 ],
 "metadata": {
  "kernelspec": {
   "display_name": "Python 3",
   "language": "python",
   "name": "python3"
  },
  "language_info": {
   "codemirror_mode": {
    "name": "ipython",
    "version": 3
   },
   "file_extension": ".py",
   "mimetype": "text/x-python",
   "name": "python",
   "nbconvert_exporter": "python",
   "pygments_lexer": "ipython3",
   "version": "3.8.10"
  }
 },
 "nbformat": 4,
 "nbformat_minor": 2
}
