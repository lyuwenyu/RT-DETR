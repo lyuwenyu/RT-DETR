{
 "cells": [
  {
   "cell_type": "code",
   "execution_count": 3,
   "metadata": {},
   "outputs": [
    {
     "name": "stderr",
     "output_type": "stream",
     "text": [
      "/usr/local/lib/python3.8/dist-packages/tqdm/auto.py:22: TqdmWarning: IProgress not found. Please update jupyter and ipywidgets. See https://ipywidgets.readthedocs.io/en/stable/user_install.html\n",
      "  from .autonotebook import tqdm as notebook_tqdm\n"
     ]
    }
   ],
   "source": [
    "import supervisely as sly"
   ]
  },
  {
   "cell_type": "code",
   "execution_count": 39,
   "metadata": {},
   "outputs": [],
   "source": [
    "project = sly.read_project(\"../data/sly_dataset\")\n",
    "meta = project.meta\n",
    "ds = project.datasets.get('ds1')\n",
    "\n",
    "# TODO: make selected_classes as input\n",
    "selected_classes = [obj_class.name for obj_class in meta.obj_classes]\n",
    "cat2id = {name: i + 1 for i, name in enumerate(selected_classes)}\n",
    "img_id = 1\n",
    "ann_id = 1\n",
    "coco_anno = {\"images\": [], \"categories\": [], \"annotations\": []}\n",
    "for name in ds.get_items_names():\n",
    "    ann = ds.get_ann(name, meta)\n",
    "    img_dict = {\n",
    "        \"id\": img_id,\n",
    "        \"height\": ann.img_size[0],\n",
    "        \"width\": ann.img_size[1],\n",
    "        \"file_name\": name,\n",
    "    }\n",
    "    coco_anno[\"images\"].append(img_dict)\n",
    "    \n",
    "    for label in ann.labels:\n",
    "        if isinstance(label.geometry, (sly.Bitmap, sly.Polygon)):\n",
    "            rect = label.geometry.to_bbox()\n",
    "        elif isinstance(label.geometry, sly.Rectangle):\n",
    "            rect = label.geometry\n",
    "        else:\n",
    "            pass\n",
    "        x,y,x2,y2 = rect.left, rect.top, rect.right, rect.bottom\n",
    "        ann_dict = {\n",
    "            \"id\": ann_id,\n",
    "            \"image_id\": img_id,\n",
    "            \"category_id\": cat2id[label.obj_class.name],\n",
    "            \"bbox\": [x, y, x2 - x, y2 - y],\n",
    "            \"area\": (x2 - x) * (y2 - y),\n",
    "            \"iscrowd\": 0\n",
    "        }\n",
    "        coco_anno[\"annotations\"].append(ann_dict)\n",
    "        ann_id += 1\n",
    "    \n",
    "    img_id += 1\n",
    "\n",
    "coco_anno[\"categories\"] = [{\"id\": i, \"name\": name} for name, i in cat2id.items()]"
   ]
  },
  {
   "cell_type": "code",
   "execution_count": 40,
   "metadata": {},
   "outputs": [
    {
     "name": "stdout",
     "output_type": "stream",
     "text": [
      "creating index...\n",
      "index created!\n"
     ]
    }
   ],
   "source": [
    "from pycocotools.coco import COCO\n",
    "\n",
    "coco_api = COCO()\n",
    "coco_api.dataset = coco_anno\n",
    "coco_api.createIndex()"
   ]
  },
  {
   "cell_type": "code",
   "execution_count": 42,
   "metadata": {},
   "outputs": [],
   "source": [
    "# Save to file\n",
    "import json\n",
    "with open('coco_anno.json', 'w') as f:\n",
    "    json.dump(coco_anno, f)"
   ]
  },
  {
   "cell_type": "code",
   "execution_count": 54,
   "metadata": {},
   "outputs": [
    {
     "name": "stdout",
     "output_type": "stream",
     "text": [
      "loading annotations into memory...\n",
      "Done (t=0.00s)\n",
      "creating index...\n",
      "index created!\n"
     ]
    }
   ],
   "source": [
    "from src.data.coco import CocoDetection\n",
    "transforms = None\n",
    "ds = CocoDetection(\"../data/sly_dataset/ds1/img\", \"../data/sly_dataset/ds1/coco_anno.json\", transforms, return_masks=False)"
   ]
  },
  {
   "cell_type": "code",
   "execution_count": null,
   "metadata": {},
   "outputs": [],
   "source": []
  },
  {
   "cell_type": "code",
   "execution_count": 1,
   "metadata": {},
   "outputs": [],
   "source": [
    "import os\n",
    "from src.solver import DetSolver\n",
    "from src.core import YAMLConfig\n",
    "\n",
    "config_path = 'configs/rtdetr/rtdetr_r18vd_6x_coco.yml'\n",
    "checkpoint_url = \"https://github.com/lyuwenyu/storage/releases/download/v0.1/rtdetr_r18vd_dec3_6x_coco_from_paddle.pth\"\n",
    "\n",
    "import torch\n",
    "torch.hub.load_state_dict_from_url(checkpoint_url, \"../models\");\n",
    "\n",
    "name = os.path.basename(checkpoint_url)\n",
    "checkpoint_path = f\"../models/{name}\""
   ]
  },
  {
   "cell_type": "code",
   "execution_count": 4,
   "metadata": {},
   "outputs": [],
   "source": [
    "cfg = YAMLConfig(\n",
    "    config_path,\n",
    "    # resume=None,\n",
    "    # use_amp=args.amp,\n",
    "    tuning=checkpoint_path\n",
    ")\n",
    "\n",
    "# cfg.device = torch.device(\"cpu\")\n",
    "solver = DetSolver(cfg)"
   ]
  },
  {
   "cell_type": "code",
   "execution_count": 1,
   "metadata": {},
   "outputs": [
    {
     "ename": "NameError",
     "evalue": "name 'solver' is not defined",
     "output_type": "error",
     "traceback": [
      "\u001b[0;31m---------------------------------------------------------------------------\u001b[0m",
      "\u001b[0;31mNameError\u001b[0m                                 Traceback (most recent call last)",
      "Cell \u001b[0;32mIn[1], line 1\u001b[0m\n\u001b[0;32m----> 1\u001b[0m \u001b[43msolver\u001b[49m\u001b[38;5;241m.\u001b[39mfit()\n",
      "\u001b[0;31mNameError\u001b[0m: name 'solver' is not defined"
     ]
    }
   ],
   "source": [
    "solver.fit()"
   ]
  }
 ],
 "metadata": {
  "kernelspec": {
   "display_name": "Python 3",
   "language": "python",
   "name": "python3"
  },
  "language_info": {
   "codemirror_mode": {
    "name": "ipython",
    "version": 3
   },
   "file_extension": ".py",
   "mimetype": "text/x-python",
   "name": "python",
   "nbconvert_exporter": "python",
   "pygments_lexer": "ipython3",
   "version": "3.8.10"
  }
 },
 "nbformat": 4,
 "nbformat_minor": 2
}
